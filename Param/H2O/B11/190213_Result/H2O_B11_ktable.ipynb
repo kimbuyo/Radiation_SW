{
 "cells": [
  {
   "cell_type": "markdown",
   "metadata": {
    "hideCode": false,
    "hidePrompt": false
   },
   "source": [
    "#  H2O B11 cosz1.0 ktable"
   ]
  },
  {
   "cell_type": "markdown",
   "metadata": {
    "hideCode": false,
    "hidePrompt": false,
    "slideshow": {
     "slide_type": "-"
    }
   },
   "source": [
    "### Input Parameter Options\n",
    "    H2O Band 11 (1000 - 4400)\n",
    "    vstar = 1000\n",
    "    nband = 340\n",
    "    nv = 10000\n",
    "    dv = 0.001\n",
    "    cosz = 1.0\n",
    "    rsfc = 0.0\n",
    "\n",
    "    ng = 12\n",
    "    nref = 2\n",
    "    p_refs = / 10, 300 /\n",
    "    t_refs = / 250, 250 /\n",
    "    ng_refs = / 4, 8 /\n",
    "    ng_adju = / -2, 0 /\n",
    "    wgt = / 3*0.9, 0.8, 0.7, 0.6, 0.5, 0.6, 0.7, 0.6, 0.7, 0.95 / \n",
    "    option_klin = 1\n",
    "    klin = 5.0e-25\n",
    "    option_k_lookup = 1\n",
    "    nl = 52\n",
    "    nt = 5"
   ]
  },
  {
   "cell_type": "code",
   "execution_count": 1,
   "metadata": {
    "hideCode": false,
    "hidePrompt": false
   },
   "outputs": [],
   "source": [
    "import numpy as np\n",
    "from pandas import *\n",
    "import pandas as pd\n",
    "import matplotlib.pyplot as plt\n",
    "%matplotlib inline\n",
    "import IPython.display as display\n",
    "\n",
    "pd.set_option('display.max_rows', 1000)\n",
    "pd.set_option('display.max_columns', 1000)\n",
    "\n",
    "path = './'\n",
    "fname = 'H2O_B11_'"
   ]
  },
  {
   "cell_type": "markdown",
   "metadata": {
    "hideCode": false,
    "hidePrompt": false
   },
   "source": [
    "### absmean"
   ]
  },
  {
   "cell_type": "code",
   "execution_count": 2,
   "metadata": {},
   "outputs": [],
   "source": [
    "absmean = pd.read_table(path+'fort.881',header=None,sep=\"\\s+\",keep_default_na=False,index_col=[0],names=['ig','ip','t1','t2','t3','t4','t5'])\n",
    "absmeanlog = pd.read_table(path+'fort.882',header=None,sep=\"\\s+\",keep_default_na=False,index_col=[0],names=['ig','ip','t1','t2','t3','t4','t5'])\n",
    "ktable = pd.read_table(path+'fort.888',header=None,sep=\"\\s+\",keep_default_na=False,index_col=[0],names=['ig','ip','t1','t2','t3','t4','t5'])"
   ]
  },
  {
   "cell_type": "code",
   "execution_count": 3,
   "metadata": {},
   "outputs": [
    {
     "data": {
      "text/html": [
       "\n",
       "Download: <a href=\"./H2O_B11_absmean.csv\">H2O_B11_absmean.csv</a>"
      ],
      "text/plain": [
       "<IPython.core.display.HTML object>"
      ]
     },
     "metadata": {},
     "output_type": "display_data"
    }
   ],
   "source": [
    "## save absmean data to excel\n",
    "sav = pd.DataFrame(absmean)\n",
    "sav.to_csv(fname+\"absmean.csv\",header=True,index=True)\n",
    "fn = fname+'absmean.csv'\n",
    "sav.to_csv(fn)\n",
    "html_download = '''\n",
    "Download: <a href=\"./{fname}\">{fname}</a>'''.format(fname=fn)\n",
    "display.display(display.HTML(html_download))"
   ]
  },
  {
   "cell_type": "markdown",
   "metadata": {
    "hideCode": false,
    "hidePrompt": false
   },
   "source": [
    "### absmeanlog"
   ]
  },
  {
   "cell_type": "code",
   "execution_count": 4,
   "metadata": {},
   "outputs": [
    {
     "data": {
      "text/html": [
       "\n",
       "Download: <a href=\"./H2O_B11_absmeanlog.csv\">H2O_B11_absmeanlog.csv</a>"
      ],
      "text/plain": [
       "<IPython.core.display.HTML object>"
      ]
     },
     "metadata": {},
     "output_type": "display_data"
    }
   ],
   "source": [
    "## save absmean data to excel\n",
    "sav = pd.DataFrame(absmeanlog)\n",
    "sav.to_csv(fname+\"absmeanlog.csv\",header=True,index=True)\n",
    "fn = fname+'absmeanlog.csv'\n",
    "sav.to_csv(fn)\n",
    "html_download = '''\n",
    "Download: <a href=\"./{fname}\">{fname}</a>'''.format(fname=fn)\n",
    "display.display(display.HTML(html_download))"
   ]
  },
  {
   "cell_type": "markdown",
   "metadata": {},
   "source": [
    "### ktable"
   ]
  },
  {
   "cell_type": "code",
   "execution_count": 5,
   "metadata": {},
   "outputs": [
    {
     "data": {
      "text/html": [
       "\n",
       "Download: <a href=\"./H2O_B11_ktable.csv\">H2O_B11_ktable.csv</a>"
      ],
      "text/plain": [
       "<IPython.core.display.HTML object>"
      ]
     },
     "metadata": {},
     "output_type": "display_data"
    }
   ],
   "source": [
    "## save absmean data to excel\n",
    "sav = pd.DataFrame(ktable)\n",
    "sav.to_csv(fname+\"ktable.csv\",header=True,index=True)\n",
    "fn = fname+'ktable.csv'\n",
    "sav.to_csv(fn)\n",
    "html_download = '''\n",
    "Download: <a href=\"./{fname}\">{fname}</a>'''.format(fname=fn)\n",
    "display.display(display.HTML(html_download))"
   ]
  },
  {
   "cell_type": "markdown",
   "metadata": {},
   "source": [
    "### abscom, dg, dgs, ..."
   ]
  },
  {
   "cell_type": "code",
   "execution_count": 6,
   "metadata": {},
   "outputs": [
    {
     "data": {
      "text/html": [
       "<div>\n",
       "<style scoped>\n",
       "    .dataframe tbody tr th:only-of-type {\n",
       "        vertical-align: middle;\n",
       "    }\n",
       "\n",
       "    .dataframe tbody tr th {\n",
       "        vertical-align: top;\n",
       "    }\n",
       "\n",
       "    .dataframe thead th {\n",
       "        text-align: right;\n",
       "    }\n",
       "</style>\n",
       "<table border=\"1\" class=\"dataframe\">\n",
       "  <thead>\n",
       "    <tr style=\"text-align: right;\">\n",
       "      <th></th>\n",
       "      <th>abscom(ig)</th>\n",
       "      <th>abscom(ig)/abscom(ig-1)</th>\n",
       "      <th>dg</th>\n",
       "      <th>dgs</th>\n",
       "      <th>dgs/tflux(1)</th>\n",
       "      <th>accu6th</th>\n",
       "      <th>dgs/rSolsum</th>\n",
       "      <th>pref</th>\n",
       "    </tr>\n",
       "    <tr>\n",
       "      <th>g</th>\n",
       "      <th></th>\n",
       "      <th></th>\n",
       "      <th></th>\n",
       "      <th></th>\n",
       "      <th></th>\n",
       "      <th></th>\n",
       "      <th></th>\n",
       "      <th></th>\n",
       "    </tr>\n",
       "  </thead>\n",
       "  <tbody>\n",
       "    <tr>\n",
       "      <th>1</th>\n",
       "      <td>4.696440e-18</td>\n",
       "      <td>0.000000</td>\n",
       "      <td>0.000294</td>\n",
       "      <td>0.015798</td>\n",
       "      <td>0.000269</td>\n",
       "      <td>0.000269</td>\n",
       "      <td>0.000012</td>\n",
       "      <td>10.0</td>\n",
       "    </tr>\n",
       "    <tr>\n",
       "      <th>2</th>\n",
       "      <td>4.125760e-19</td>\n",
       "      <td>0.087849</td>\n",
       "      <td>0.001200</td>\n",
       "      <td>0.072820</td>\n",
       "      <td>0.001240</td>\n",
       "      <td>0.001510</td>\n",
       "      <td>0.000053</td>\n",
       "      <td>10.0</td>\n",
       "    </tr>\n",
       "    <tr>\n",
       "      <th>3</th>\n",
       "      <td>3.624430e-20</td>\n",
       "      <td>0.087849</td>\n",
       "      <td>0.004076</td>\n",
       "      <td>0.250646</td>\n",
       "      <td>0.004270</td>\n",
       "      <td>0.005779</td>\n",
       "      <td>0.000183</td>\n",
       "      <td>10.0</td>\n",
       "    </tr>\n",
       "    <tr>\n",
       "      <th>4</th>\n",
       "      <td>3.184010e-21</td>\n",
       "      <td>0.087849</td>\n",
       "      <td>0.013499</td>\n",
       "      <td>0.803288</td>\n",
       "      <td>0.013684</td>\n",
       "      <td>0.019463</td>\n",
       "      <td>0.000588</td>\n",
       "      <td>10.0</td>\n",
       "    </tr>\n",
       "    <tr>\n",
       "      <th>5</th>\n",
       "      <td>1.646670e-20</td>\n",
       "      <td>5.171685</td>\n",
       "      <td>0.017003</td>\n",
       "      <td>0.913884</td>\n",
       "      <td>0.015568</td>\n",
       "      <td>0.035030</td>\n",
       "      <td>0.000669</td>\n",
       "      <td>300.0</td>\n",
       "    </tr>\n",
       "    <tr>\n",
       "      <th>6</th>\n",
       "      <td>2.908490e-21</td>\n",
       "      <td>0.176628</td>\n",
       "      <td>0.049618</td>\n",
       "      <td>2.882397</td>\n",
       "      <td>0.049100</td>\n",
       "      <td>0.084130</td>\n",
       "      <td>0.002110</td>\n",
       "      <td>300.0</td>\n",
       "    </tr>\n",
       "    <tr>\n",
       "      <th>7</th>\n",
       "      <td>5.137220e-22</td>\n",
       "      <td>0.176628</td>\n",
       "      <td>0.105391</td>\n",
       "      <td>6.122355</td>\n",
       "      <td>0.104291</td>\n",
       "      <td>0.188421</td>\n",
       "      <td>0.004482</td>\n",
       "      <td>300.0</td>\n",
       "    </tr>\n",
       "    <tr>\n",
       "      <th>8</th>\n",
       "      <td>9.073780e-23</td>\n",
       "      <td>0.176628</td>\n",
       "      <td>0.117905</td>\n",
       "      <td>6.961983</td>\n",
       "      <td>0.118594</td>\n",
       "      <td>0.307015</td>\n",
       "      <td>0.005096</td>\n",
       "      <td>300.0</td>\n",
       "    </tr>\n",
       "    <tr>\n",
       "      <th>9</th>\n",
       "      <td>1.602690e-23</td>\n",
       "      <td>0.176628</td>\n",
       "      <td>0.114887</td>\n",
       "      <td>6.906445</td>\n",
       "      <td>0.117648</td>\n",
       "      <td>0.424663</td>\n",
       "      <td>0.005056</td>\n",
       "      <td>300.0</td>\n",
       "    </tr>\n",
       "    <tr>\n",
       "      <th>10</th>\n",
       "      <td>2.830800e-24</td>\n",
       "      <td>0.176628</td>\n",
       "      <td>0.131019</td>\n",
       "      <td>8.464726</td>\n",
       "      <td>0.144192</td>\n",
       "      <td>0.568855</td>\n",
       "      <td>0.006196</td>\n",
       "      <td>300.0</td>\n",
       "    </tr>\n",
       "    <tr>\n",
       "      <th>11</th>\n",
       "      <td>5.000000e-25</td>\n",
       "      <td>0.176628</td>\n",
       "      <td>0.130013</td>\n",
       "      <td>7.975589</td>\n",
       "      <td>0.135860</td>\n",
       "      <td>0.704715</td>\n",
       "      <td>0.005838</td>\n",
       "      <td>300.0</td>\n",
       "    </tr>\n",
       "    <tr>\n",
       "      <th>12</th>\n",
       "      <td>3.879280e-29</td>\n",
       "      <td>0.000078</td>\n",
       "      <td>0.315094</td>\n",
       "      <td>17.334570</td>\n",
       "      <td>0.295285</td>\n",
       "      <td>1.000000</td>\n",
       "      <td>0.012689</td>\n",
       "      <td>300.0</td>\n",
       "    </tr>\n",
       "  </tbody>\n",
       "</table>\n",
       "</div>"
      ],
      "text/plain": [
       "      abscom(ig)  abscom(ig)/abscom(ig-1)        dg        dgs  dgs/tflux(1)  \\\n",
       "g                                                                              \n",
       "1   4.696440e-18                 0.000000  0.000294   0.015798      0.000269   \n",
       "2   4.125760e-19                 0.087849  0.001200   0.072820      0.001240   \n",
       "3   3.624430e-20                 0.087849  0.004076   0.250646      0.004270   \n",
       "4   3.184010e-21                 0.087849  0.013499   0.803288      0.013684   \n",
       "5   1.646670e-20                 5.171685  0.017003   0.913884      0.015568   \n",
       "6   2.908490e-21                 0.176628  0.049618   2.882397      0.049100   \n",
       "7   5.137220e-22                 0.176628  0.105391   6.122355      0.104291   \n",
       "8   9.073780e-23                 0.176628  0.117905   6.961983      0.118594   \n",
       "9   1.602690e-23                 0.176628  0.114887   6.906445      0.117648   \n",
       "10  2.830800e-24                 0.176628  0.131019   8.464726      0.144192   \n",
       "11  5.000000e-25                 0.176628  0.130013   7.975589      0.135860   \n",
       "12  3.879280e-29                 0.000078  0.315094  17.334570      0.295285   \n",
       "\n",
       "     accu6th  dgs/rSolsum   pref  \n",
       "g                                 \n",
       "1   0.000269     0.000012   10.0  \n",
       "2   0.001510     0.000053   10.0  \n",
       "3   0.005779     0.000183   10.0  \n",
       "4   0.019463     0.000588   10.0  \n",
       "5   0.035030     0.000669  300.0  \n",
       "6   0.084130     0.002110  300.0  \n",
       "7   0.188421     0.004482  300.0  \n",
       "8   0.307015     0.005096  300.0  \n",
       "9   0.424663     0.005056  300.0  \n",
       "10  0.568855     0.006196  300.0  \n",
       "11  0.704715     0.005838  300.0  \n",
       "12  1.000000     0.012689  300.0  "
      ]
     },
     "execution_count": 6,
     "metadata": {},
     "output_type": "execute_result"
    }
   ],
   "source": [
    "dgs = pd.read_table(path+'fort.19',header=None,sep=\"\\s+\",keep_default_na=False,index_col=[0],\n",
    "                   names=['g','abscom(ig)','abscom(ig)/abscom(ig-1)','dg','dgs','dgs/tflux(1)','accu6th','dgs/rSolsum','pref'])\n",
    "dgs"
   ]
  },
  {
   "cell_type": "code",
   "execution_count": 7,
   "metadata": {},
   "outputs": [
    {
     "data": {
      "text/html": [
       "<script>\n",
       "code_show=true; \n",
       "function code_toggle() {\n",
       " if (code_show){\n",
       " $('div.input').hide();\n",
       " } else {\n",
       " $('div.input').show();\n",
       " }\n",
       " code_show = !code_show\n",
       "} \n",
       "$( document ).ready(code_toggle);\n",
       "</script>\n",
       "<form action=\"javascript:code_toggle()\"><input type=\"submit\" value=\"Click here to toggle on/off the raw code.\"></form>"
      ],
      "text/plain": [
       "<IPython.core.display.HTML object>"
      ]
     },
     "execution_count": 7,
     "metadata": {},
     "output_type": "execute_result"
    }
   ],
   "source": [
    "display.HTML('''<script>\n",
    "code_show=true; \n",
    "function code_toggle() {\n",
    " if (code_show){\n",
    " $('div.input').hide();\n",
    " } else {\n",
    " $('div.input').show();\n",
    " }\n",
    " code_show = !code_show\n",
    "} \n",
    "$( document ).ready(code_toggle);\n",
    "</script>\n",
    "<form action=\"javascript:code_toggle()\"><input type=\"submit\" value=\"Click here to toggle on/off the raw code.\"></form>''')"
   ]
  }
 ],
 "metadata": {
  "hide_code_all_hidden": false,
  "kernelspec": {
   "display_name": "Python 3",
   "language": "python",
   "name": "python3"
  },
  "language_info": {
   "codemirror_mode": {
    "name": "ipython",
    "version": 3
   },
   "file_extension": ".py",
   "mimetype": "text/x-python",
   "name": "python",
   "nbconvert_exporter": "python",
   "pygments_lexer": "ipython3",
   "version": "3.7.0"
  }
 },
 "nbformat": 4,
 "nbformat_minor": 2
}
