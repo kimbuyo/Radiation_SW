{
 "cells": [
  {
   "cell_type": "markdown",
   "metadata": {
    "hideCode": false,
    "hidePrompt": false
   },
   "source": [
    "#  H2O B10 cosz1.0 ktable"
   ]
  },
  {
   "cell_type": "markdown",
   "metadata": {
    "hideCode": false,
    "hidePrompt": false,
    "slideshow": {
     "slide_type": "-"
    }
   },
   "source": [
    "### Input Parameter Options\n",
    "    H2O Band 10 (4400 - 8200)\n",
    "    vstar = 4400\n",
    "    nband = 380\n",
    "    nv = 10000\n",
    "    dv = 0.001\n",
    "    cosz = 1.0\n",
    "    rsfc = 0.0\n",
    "\n",
    "    ng = 10\n",
    "    nref = 1\n",
    "    p_refs = / 300 /\n",
    "    t_refs = / 250 /\n",
    "    ng_refs = / 10 /\n",
    "    ng_adju = / 0 /\n",
    "    wgt = / 0.95, 0.9, 4*0.45, 0.5, 0.55, 0.7, 0.95 / \n",
    "    option_klin = 1\n",
    "    klin = 5.0e-25\n",
    "    option_k_lookup = 1\n",
    "    nl = 52\n",
    "    nt = 5"
   ]
  },
  {
   "cell_type": "code",
   "execution_count": 1,
   "metadata": {
    "hideCode": false,
    "hidePrompt": false
   },
   "outputs": [],
   "source": [
    "import numpy as np\n",
    "from pandas import *\n",
    "import pandas as pd\n",
    "import matplotlib.pyplot as plt\n",
    "%matplotlib inline\n",
    "import IPython.display as display\n",
    "\n",
    "pd.set_option('display.max_rows', 1000)\n",
    "pd.set_option('display.max_columns', 1000)\n",
    "\n",
    "path = './'\n",
    "fname = 'H2O_B10_'"
   ]
  },
  {
   "cell_type": "markdown",
   "metadata": {
    "hideCode": false,
    "hidePrompt": false
   },
   "source": [
    "### absmean"
   ]
  },
  {
   "cell_type": "code",
   "execution_count": 2,
   "metadata": {},
   "outputs": [],
   "source": [
    "absmean = pd.read_table(path+'fort.881',header=None,sep=\"\\s+\",keep_default_na=False,index_col=[0],names=['ig','ip','t1','t2','t3','t4','t5'])\n",
    "absmeanlog = pd.read_table(path+'fort.882',header=None,sep=\"\\s+\",keep_default_na=False,index_col=[0],names=['ig','ip','t1','t2','t3','t4','t5'])\n",
    "ktable = pd.read_table(path+'fort.888',header=None,sep=\"\\s+\",keep_default_na=False,index_col=[0],names=['ig','ip','t1','t2','t3','t4','t5'])"
   ]
  },
  {
   "cell_type": "code",
   "execution_count": 3,
   "metadata": {},
   "outputs": [
    {
     "data": {
      "text/html": [
       "\n",
       "Download: <a href=\"./H2O_B10_absmean.csv\">H2O_B10_absmean.csv</a>"
      ],
      "text/plain": [
       "<IPython.core.display.HTML object>"
      ]
     },
     "metadata": {},
     "output_type": "display_data"
    }
   ],
   "source": [
    "## save absmean data to excel\n",
    "sav = pd.DataFrame(absmean)\n",
    "sav.to_csv(fname+\"absmean.csv\",header=True,index=True)\n",
    "fn = fname+'absmean.csv'\n",
    "sav.to_csv(fn)\n",
    "html_download = '''\n",
    "Download: <a href=\"./{fname}\">{fname}</a>'''.format(fname=fn)\n",
    "display.display(display.HTML(html_download))"
   ]
  },
  {
   "cell_type": "markdown",
   "metadata": {
    "hideCode": false,
    "hidePrompt": false
   },
   "source": [
    "### absmeanlog"
   ]
  },
  {
   "cell_type": "code",
   "execution_count": 4,
   "metadata": {},
   "outputs": [
    {
     "data": {
      "text/html": [
       "\n",
       "Download: <a href=\"./H2O_B10_absmeanlog.csv\">H2O_B10_absmeanlog.csv</a>"
      ],
      "text/plain": [
       "<IPython.core.display.HTML object>"
      ]
     },
     "metadata": {},
     "output_type": "display_data"
    }
   ],
   "source": [
    "## save absmean data to excel\n",
    "sav = pd.DataFrame(absmeanlog)\n",
    "sav.to_csv(fname+\"absmeanlog.csv\",header=True,index=True)\n",
    "fn = fname+'absmeanlog.csv'\n",
    "sav.to_csv(fn)\n",
    "html_download = '''\n",
    "Download: <a href=\"./{fname}\">{fname}</a>'''.format(fname=fn)\n",
    "display.display(display.HTML(html_download))"
   ]
  },
  {
   "cell_type": "markdown",
   "metadata": {},
   "source": [
    "### ktable"
   ]
  },
  {
   "cell_type": "code",
   "execution_count": 5,
   "metadata": {},
   "outputs": [
    {
     "data": {
      "text/html": [
       "\n",
       "Download: <a href=\"./H2O_B10_ktable.csv\">H2O_B10_ktable.csv</a>"
      ],
      "text/plain": [
       "<IPython.core.display.HTML object>"
      ]
     },
     "metadata": {},
     "output_type": "display_data"
    }
   ],
   "source": [
    "## save absmean data to excel\n",
    "sav = pd.DataFrame(ktable)\n",
    "sav.to_csv(fname+\"ktable.csv\",header=True,index=True)\n",
    "fn = fname+'ktable.csv'\n",
    "sav.to_csv(fn)\n",
    "html_download = '''\n",
    "Download: <a href=\"./{fname}\">{fname}</a>'''.format(fname=fn)\n",
    "display.display(display.HTML(html_download))"
   ]
  },
  {
   "cell_type": "markdown",
   "metadata": {},
   "source": [
    "### abscom, dg, dgs, ..."
   ]
  },
  {
   "cell_type": "code",
   "execution_count": 6,
   "metadata": {},
   "outputs": [
    {
     "data": {
      "text/html": [
       "<div>\n",
       "<style scoped>\n",
       "    .dataframe tbody tr th:only-of-type {\n",
       "        vertical-align: middle;\n",
       "    }\n",
       "\n",
       "    .dataframe tbody tr th {\n",
       "        vertical-align: top;\n",
       "    }\n",
       "\n",
       "    .dataframe thead th {\n",
       "        text-align: right;\n",
       "    }\n",
       "</style>\n",
       "<table border=\"1\" class=\"dataframe\">\n",
       "  <thead>\n",
       "    <tr style=\"text-align: right;\">\n",
       "      <th></th>\n",
       "      <th>abscom(ig)</th>\n",
       "      <th>abscom(ig)/abscom(ig-1)</th>\n",
       "      <th>dg</th>\n",
       "      <th>dgs</th>\n",
       "      <th>dgs/tflux(1)</th>\n",
       "      <th>accu6th</th>\n",
       "      <th>dgs/rSolsum</th>\n",
       "      <th>pref</th>\n",
       "    </tr>\n",
       "    <tr>\n",
       "      <th>g</th>\n",
       "      <th></th>\n",
       "      <th></th>\n",
       "      <th></th>\n",
       "      <th></th>\n",
       "      <th></th>\n",
       "      <th></th>\n",
       "      <th></th>\n",
       "      <th></th>\n",
       "    </tr>\n",
       "  </thead>\n",
       "  <tbody>\n",
       "    <tr>\n",
       "      <th>1</th>\n",
       "      <td>7.425170e-20</td>\n",
       "      <td>0.000000</td>\n",
       "      <td>0.000935</td>\n",
       "      <td>0.202865</td>\n",
       "      <td>0.000891</td>\n",
       "      <td>0.000891</td>\n",
       "      <td>0.000148</td>\n",
       "      <td>300.0</td>\n",
       "    </tr>\n",
       "    <tr>\n",
       "      <th>2</th>\n",
       "      <td>1.675870e-20</td>\n",
       "      <td>0.225701</td>\n",
       "      <td>0.003823</td>\n",
       "      <td>0.856879</td>\n",
       "      <td>0.003762</td>\n",
       "      <td>0.004653</td>\n",
       "      <td>0.000627</td>\n",
       "      <td>300.0</td>\n",
       "    </tr>\n",
       "    <tr>\n",
       "      <th>3</th>\n",
       "      <td>3.782440e-21</td>\n",
       "      <td>0.225701</td>\n",
       "      <td>0.010362</td>\n",
       "      <td>2.365179</td>\n",
       "      <td>0.010385</td>\n",
       "      <td>0.015038</td>\n",
       "      <td>0.001731</td>\n",
       "      <td>300.0</td>\n",
       "    </tr>\n",
       "    <tr>\n",
       "      <th>4</th>\n",
       "      <td>8.537000e-22</td>\n",
       "      <td>0.225701</td>\n",
       "      <td>0.024252</td>\n",
       "      <td>5.559072</td>\n",
       "      <td>0.024409</td>\n",
       "      <td>0.039447</td>\n",
       "      <td>0.004069</td>\n",
       "      <td>300.0</td>\n",
       "    </tr>\n",
       "    <tr>\n",
       "      <th>5</th>\n",
       "      <td>1.926810e-22</td>\n",
       "      <td>0.225701</td>\n",
       "      <td>0.053190</td>\n",
       "      <td>12.236319</td>\n",
       "      <td>0.053727</td>\n",
       "      <td>0.093174</td>\n",
       "      <td>0.008957</td>\n",
       "      <td>300.0</td>\n",
       "    </tr>\n",
       "    <tr>\n",
       "      <th>6</th>\n",
       "      <td>4.348820e-23</td>\n",
       "      <td>0.225701</td>\n",
       "      <td>0.092083</td>\n",
       "      <td>21.201564</td>\n",
       "      <td>0.093092</td>\n",
       "      <td>0.186266</td>\n",
       "      <td>0.015520</td>\n",
       "      <td>300.0</td>\n",
       "    </tr>\n",
       "    <tr>\n",
       "      <th>7</th>\n",
       "      <td>9.815310e-24</td>\n",
       "      <td>0.225701</td>\n",
       "      <td>0.100211</td>\n",
       "      <td>23.154947</td>\n",
       "      <td>0.101669</td>\n",
       "      <td>0.287935</td>\n",
       "      <td>0.016950</td>\n",
       "      <td>300.0</td>\n",
       "    </tr>\n",
       "    <tr>\n",
       "      <th>8</th>\n",
       "      <td>2.215320e-24</td>\n",
       "      <td>0.225701</td>\n",
       "      <td>0.090207</td>\n",
       "      <td>20.951136</td>\n",
       "      <td>0.091992</td>\n",
       "      <td>0.379927</td>\n",
       "      <td>0.015336</td>\n",
       "      <td>300.0</td>\n",
       "    </tr>\n",
       "    <tr>\n",
       "      <th>9</th>\n",
       "      <td>5.000000e-25</td>\n",
       "      <td>0.225701</td>\n",
       "      <td>0.090574</td>\n",
       "      <td>20.634971</td>\n",
       "      <td>0.090604</td>\n",
       "      <td>0.470531</td>\n",
       "      <td>0.015105</td>\n",
       "      <td>300.0</td>\n",
       "    </tr>\n",
       "    <tr>\n",
       "      <th>10</th>\n",
       "      <td>4.688410e-29</td>\n",
       "      <td>0.000094</td>\n",
       "      <td>0.534364</td>\n",
       "      <td>120.586069</td>\n",
       "      <td>0.529469</td>\n",
       "      <td>1.000000</td>\n",
       "      <td>0.088270</td>\n",
       "      <td>300.0</td>\n",
       "    </tr>\n",
       "  </tbody>\n",
       "</table>\n",
       "</div>"
      ],
      "text/plain": [
       "      abscom(ig)  abscom(ig)/abscom(ig-1)        dg         dgs  dgs/tflux(1)  \\\n",
       "g                                                                               \n",
       "1   7.425170e-20                 0.000000  0.000935    0.202865      0.000891   \n",
       "2   1.675870e-20                 0.225701  0.003823    0.856879      0.003762   \n",
       "3   3.782440e-21                 0.225701  0.010362    2.365179      0.010385   \n",
       "4   8.537000e-22                 0.225701  0.024252    5.559072      0.024409   \n",
       "5   1.926810e-22                 0.225701  0.053190   12.236319      0.053727   \n",
       "6   4.348820e-23                 0.225701  0.092083   21.201564      0.093092   \n",
       "7   9.815310e-24                 0.225701  0.100211   23.154947      0.101669   \n",
       "8   2.215320e-24                 0.225701  0.090207   20.951136      0.091992   \n",
       "9   5.000000e-25                 0.225701  0.090574   20.634971      0.090604   \n",
       "10  4.688410e-29                 0.000094  0.534364  120.586069      0.529469   \n",
       "\n",
       "     accu6th  dgs/rSolsum   pref  \n",
       "g                                 \n",
       "1   0.000891     0.000148  300.0  \n",
       "2   0.004653     0.000627  300.0  \n",
       "3   0.015038     0.001731  300.0  \n",
       "4   0.039447     0.004069  300.0  \n",
       "5   0.093174     0.008957  300.0  \n",
       "6   0.186266     0.015520  300.0  \n",
       "7   0.287935     0.016950  300.0  \n",
       "8   0.379927     0.015336  300.0  \n",
       "9   0.470531     0.015105  300.0  \n",
       "10  1.000000     0.088270  300.0  "
      ]
     },
     "execution_count": 6,
     "metadata": {},
     "output_type": "execute_result"
    }
   ],
   "source": [
    "dgs = pd.read_table(path+'fort.19',header=None,sep=\"\\s+\",keep_default_na=False,index_col=[0],\n",
    "                   names=['g','abscom(ig)','abscom(ig)/abscom(ig-1)','dg','dgs','dgs/tflux(1)','accu6th','dgs/rSolsum','pref'])\n",
    "dgs"
   ]
  },
  {
   "cell_type": "code",
   "execution_count": 7,
   "metadata": {},
   "outputs": [
    {
     "data": {
      "text/html": [
       "<script>\n",
       "code_show=true; \n",
       "function code_toggle() {\n",
       " if (code_show){\n",
       " $('div.input').hide();\n",
       " } else {\n",
       " $('div.input').show();\n",
       " }\n",
       " code_show = !code_show\n",
       "} \n",
       "$( document ).ready(code_toggle);\n",
       "</script>\n",
       "<form action=\"javascript:code_toggle()\"><input type=\"submit\" value=\"Click here to toggle on/off the raw code.\"></form>"
      ],
      "text/plain": [
       "<IPython.core.display.HTML object>"
      ]
     },
     "execution_count": 7,
     "metadata": {},
     "output_type": "execute_result"
    }
   ],
   "source": [
    "display.HTML('''<script>\n",
    "code_show=true; \n",
    "function code_toggle() {\n",
    " if (code_show){\n",
    " $('div.input').hide();\n",
    " } else {\n",
    " $('div.input').show();\n",
    " }\n",
    " code_show = !code_show\n",
    "} \n",
    "$( document ).ready(code_toggle);\n",
    "</script>\n",
    "<form action=\"javascript:code_toggle()\"><input type=\"submit\" value=\"Click here to toggle on/off the raw code.\"></form>''')"
   ]
  }
 ],
 "metadata": {
  "hide_code_all_hidden": false,
  "kernelspec": {
   "display_name": "Python 3",
   "language": "python",
   "name": "python3"
  },
  "language_info": {
   "codemirror_mode": {
    "name": "ipython",
    "version": 3
   },
   "file_extension": ".py",
   "mimetype": "text/x-python",
   "name": "python",
   "nbconvert_exporter": "python",
   "pygments_lexer": "ipython3",
   "version": "3.7.0"
  }
 },
 "nbformat": 4,
 "nbformat_minor": 2
}
