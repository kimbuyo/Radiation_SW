{
 "cells": [
  {
   "cell_type": "markdown",
   "metadata": {
    "hideCode": false,
    "hidePrompt": false
   },
   "source": [
    "#  H2O B09 cosz1.0 ktable"
   ]
  },
  {
   "cell_type": "markdown",
   "metadata": {
    "hideCode": false,
    "hidePrompt": false,
    "slideshow": {
     "slide_type": "-"
    }
   },
   "source": [
    "### Input Parameter Options\n",
    "    H2O Band 9 (8200 - 14290)\n",
    "    vstar = 8200\n",
    "    nband = 609\n",
    "    nv = 10000\n",
    "    dv = 0.001\n",
    "    cosz = 1.0\n",
    "    rsfc = 0.0\n",
    "\n",
    "    ng = 10\n",
    "    nref = 2\n",
    "    p_refs = / 300, 300 /\n",
    "    t_refs = / 250, 250 /\n",
    "    ng_refs = / 4, 6 /\n",
    "    ng_adju = / -3, 0 /\n",
    "    wgt = / 0.95, 0.90, 5*0.50, 0.70, 0.85, 0.95 / \n",
    "    option_klin = 1\n",
    "    klin = 3.0e-25\n",
    "    option_k_lookup = 1\n",
    "    nl = 52\n",
    "    nt = 5"
   ]
  },
  {
   "cell_type": "code",
   "execution_count": 1,
   "metadata": {
    "hideCode": false,
    "hidePrompt": false
   },
   "outputs": [],
   "source": [
    "import numpy as np\n",
    "from pandas import *\n",
    "import pandas as pd\n",
    "import matplotlib.pyplot as plt\n",
    "%matplotlib inline\n",
    "import IPython.display as display\n",
    "\n",
    "pd.set_option('display.max_rows', 1000)\n",
    "pd.set_option('display.max_columns', 1000)\n",
    "\n",
    "path = './'\n",
    "fname = 'H2O_B09_'"
   ]
  },
  {
   "cell_type": "markdown",
   "metadata": {
    "hideCode": false,
    "hidePrompt": false
   },
   "source": [
    "### absmean"
   ]
  },
  {
   "cell_type": "code",
   "execution_count": 2,
   "metadata": {},
   "outputs": [],
   "source": [
    "absmean = pd.read_table(path+'fort.881',header=None,sep=\"\\s+\",keep_default_na=False,index_col=[0],names=['ig','ip','t1','t2','t3','t4','t5'])\n",
    "absmeanlog = pd.read_table(path+'fort.882',header=None,sep=\"\\s+\",keep_default_na=False,index_col=[0],names=['ig','ip','t1','t2','t3','t4','t5'])\n",
    "ktable = pd.read_table(path+'fort.888',header=None,sep=\"\\s+\",keep_default_na=False,index_col=[0],names=['ig','ip','t1','t2','t3','t4','t5'])"
   ]
  },
  {
   "cell_type": "code",
   "execution_count": 3,
   "metadata": {},
   "outputs": [
    {
     "data": {
      "text/html": [
       "\n",
       "Download: <a href=\"./H2O_B09_absmean.csv\">H2O_B09_absmean.csv</a>"
      ],
      "text/plain": [
       "<IPython.core.display.HTML object>"
      ]
     },
     "metadata": {},
     "output_type": "display_data"
    }
   ],
   "source": [
    "## save absmean data to excel\n",
    "sav = pd.DataFrame(absmean)\n",
    "sav.to_csv(fname+\"absmean.csv\",header=True,index=True)\n",
    "fn = fname+'absmean.csv'\n",
    "sav.to_csv(fn)\n",
    "html_download = '''\n",
    "Download: <a href=\"./{fname}\">{fname}</a>'''.format(fname=fn)\n",
    "display.display(display.HTML(html_download))"
   ]
  },
  {
   "cell_type": "markdown",
   "metadata": {
    "hideCode": false,
    "hidePrompt": false
   },
   "source": [
    "### absmeanlog"
   ]
  },
  {
   "cell_type": "code",
   "execution_count": 4,
   "metadata": {},
   "outputs": [
    {
     "data": {
      "text/html": [
       "\n",
       "Download: <a href=\"./H2O_B09_absmeanlog.csv\">H2O_B09_absmeanlog.csv</a>"
      ],
      "text/plain": [
       "<IPython.core.display.HTML object>"
      ]
     },
     "metadata": {},
     "output_type": "display_data"
    }
   ],
   "source": [
    "## save absmean data to excel\n",
    "sav = pd.DataFrame(absmeanlog)\n",
    "sav.to_csv(fname+\"absmeanlog.csv\",header=True,index=True)\n",
    "fn = fname+'absmeanlog.csv'\n",
    "sav.to_csv(fn)\n",
    "html_download = '''\n",
    "Download: <a href=\"./{fname}\">{fname}</a>'''.format(fname=fn)\n",
    "display.display(display.HTML(html_download))"
   ]
  },
  {
   "cell_type": "markdown",
   "metadata": {},
   "source": [
    "### ktable"
   ]
  },
  {
   "cell_type": "code",
   "execution_count": 5,
   "metadata": {},
   "outputs": [
    {
     "data": {
      "text/html": [
       "\n",
       "Download: <a href=\"./H2O_B09_ktable.csv\">H2O_B09_ktable.csv</a>"
      ],
      "text/plain": [
       "<IPython.core.display.HTML object>"
      ]
     },
     "metadata": {},
     "output_type": "display_data"
    }
   ],
   "source": [
    "## save absmean data to excel\n",
    "sav = pd.DataFrame(ktable)\n",
    "sav.to_csv(fname+\"ktable.csv\",header=True,index=True)\n",
    "fn = fname+'ktable.csv'\n",
    "sav.to_csv(fn)\n",
    "html_download = '''\n",
    "Download: <a href=\"./{fname}\">{fname}</a>'''.format(fname=fn)\n",
    "display.display(display.HTML(html_download))"
   ]
  },
  {
   "cell_type": "markdown",
   "metadata": {},
   "source": [
    "### abscom, dg, dgs, ..."
   ]
  },
  {
   "cell_type": "code",
   "execution_count": 6,
   "metadata": {},
   "outputs": [
    {
     "data": {
      "text/html": [
       "<div>\n",
       "<style scoped>\n",
       "    .dataframe tbody tr th:only-of-type {\n",
       "        vertical-align: middle;\n",
       "    }\n",
       "\n",
       "    .dataframe tbody tr th {\n",
       "        vertical-align: top;\n",
       "    }\n",
       "\n",
       "    .dataframe thead th {\n",
       "        text-align: right;\n",
       "    }\n",
       "</style>\n",
       "<table border=\"1\" class=\"dataframe\">\n",
       "  <thead>\n",
       "    <tr style=\"text-align: right;\">\n",
       "      <th></th>\n",
       "      <th>abscom(ig)</th>\n",
       "      <th>abscom(ig)/abscom(ig-1)</th>\n",
       "      <th>dg</th>\n",
       "      <th>dgs</th>\n",
       "      <th>dgs/tflux(1)</th>\n",
       "      <th>accu6th</th>\n",
       "      <th>dgs/rSolsum</th>\n",
       "      <th>pref</th>\n",
       "    </tr>\n",
       "    <tr>\n",
       "      <th>g</th>\n",
       "      <th></th>\n",
       "      <th></th>\n",
       "      <th></th>\n",
       "      <th></th>\n",
       "      <th></th>\n",
       "      <th></th>\n",
       "      <th></th>\n",
       "      <th></th>\n",
       "    </tr>\n",
       "  </thead>\n",
       "  <tbody>\n",
       "    <tr>\n",
       "      <th>1</th>\n",
       "      <td>2.595400e-21</td>\n",
       "      <td>0.000000</td>\n",
       "      <td>0.000825</td>\n",
       "      <td>0.367281</td>\n",
       "      <td>0.000830</td>\n",
       "      <td>0.000830</td>\n",
       "      <td>0.000269</td>\n",
       "      <td>300.0</td>\n",
       "    </tr>\n",
       "    <tr>\n",
       "      <th>2</th>\n",
       "      <td>4.234360e-22</td>\n",
       "      <td>0.163149</td>\n",
       "      <td>0.003863</td>\n",
       "      <td>1.729163</td>\n",
       "      <td>0.003908</td>\n",
       "      <td>0.004739</td>\n",
       "      <td>0.001266</td>\n",
       "      <td>300.0</td>\n",
       "    </tr>\n",
       "    <tr>\n",
       "      <th>3</th>\n",
       "      <td>6.908290e-23</td>\n",
       "      <td>0.163149</td>\n",
       "      <td>0.015855</td>\n",
       "      <td>7.092437</td>\n",
       "      <td>0.016031</td>\n",
       "      <td>0.020770</td>\n",
       "      <td>0.005192</td>\n",
       "      <td>300.0</td>\n",
       "    </tr>\n",
       "    <tr>\n",
       "      <th>4</th>\n",
       "      <td>1.127080e-23</td>\n",
       "      <td>0.163149</td>\n",
       "      <td>0.045675</td>\n",
       "      <td>20.399773</td>\n",
       "      <td>0.046110</td>\n",
       "      <td>0.066879</td>\n",
       "      <td>0.014933</td>\n",
       "      <td>300.0</td>\n",
       "    </tr>\n",
       "    <tr>\n",
       "      <th>5</th>\n",
       "      <td>5.457420e-24</td>\n",
       "      <td>0.484210</td>\n",
       "      <td>0.035959</td>\n",
       "      <td>16.044249</td>\n",
       "      <td>0.036265</td>\n",
       "      <td>0.103144</td>\n",
       "      <td>0.011745</td>\n",
       "      <td>300.0</td>\n",
       "    </tr>\n",
       "    <tr>\n",
       "      <th>6</th>\n",
       "      <td>2.642540e-24</td>\n",
       "      <td>0.484210</td>\n",
       "      <td>0.047554</td>\n",
       "      <td>21.209734</td>\n",
       "      <td>0.047940</td>\n",
       "      <td>0.151084</td>\n",
       "      <td>0.015526</td>\n",
       "      <td>300.0</td>\n",
       "    </tr>\n",
       "    <tr>\n",
       "      <th>7</th>\n",
       "      <td>1.279540e-24</td>\n",
       "      <td>0.484210</td>\n",
       "      <td>0.056817</td>\n",
       "      <td>25.282370</td>\n",
       "      <td>0.057146</td>\n",
       "      <td>0.208230</td>\n",
       "      <td>0.018507</td>\n",
       "      <td>300.0</td>\n",
       "    </tr>\n",
       "    <tr>\n",
       "      <th>8</th>\n",
       "      <td>6.195660e-25</td>\n",
       "      <td>0.484210</td>\n",
       "      <td>0.067300</td>\n",
       "      <td>29.884206</td>\n",
       "      <td>0.067547</td>\n",
       "      <td>0.275777</td>\n",
       "      <td>0.021876</td>\n",
       "      <td>300.0</td>\n",
       "    </tr>\n",
       "    <tr>\n",
       "      <th>9</th>\n",
       "      <td>3.000000e-25</td>\n",
       "      <td>0.484210</td>\n",
       "      <td>0.073206</td>\n",
       "      <td>32.419361</td>\n",
       "      <td>0.073277</td>\n",
       "      <td>0.349054</td>\n",
       "      <td>0.023731</td>\n",
       "      <td>300.0</td>\n",
       "    </tr>\n",
       "    <tr>\n",
       "      <th>10</th>\n",
       "      <td>1.060350e-30</td>\n",
       "      <td>0.000004</td>\n",
       "      <td>0.652946</td>\n",
       "      <td>287.991176</td>\n",
       "      <td>0.650946</td>\n",
       "      <td>1.000000</td>\n",
       "      <td>0.210813</td>\n",
       "      <td>300.0</td>\n",
       "    </tr>\n",
       "  </tbody>\n",
       "</table>\n",
       "</div>"
      ],
      "text/plain": [
       "      abscom(ig)  abscom(ig)/abscom(ig-1)        dg         dgs  dgs/tflux(1)  \\\n",
       "g                                                                               \n",
       "1   2.595400e-21                 0.000000  0.000825    0.367281      0.000830   \n",
       "2   4.234360e-22                 0.163149  0.003863    1.729163      0.003908   \n",
       "3   6.908290e-23                 0.163149  0.015855    7.092437      0.016031   \n",
       "4   1.127080e-23                 0.163149  0.045675   20.399773      0.046110   \n",
       "5   5.457420e-24                 0.484210  0.035959   16.044249      0.036265   \n",
       "6   2.642540e-24                 0.484210  0.047554   21.209734      0.047940   \n",
       "7   1.279540e-24                 0.484210  0.056817   25.282370      0.057146   \n",
       "8   6.195660e-25                 0.484210  0.067300   29.884206      0.067547   \n",
       "9   3.000000e-25                 0.484210  0.073206   32.419361      0.073277   \n",
       "10  1.060350e-30                 0.000004  0.652946  287.991176      0.650946   \n",
       "\n",
       "     accu6th  dgs/rSolsum   pref  \n",
       "g                                 \n",
       "1   0.000830     0.000269  300.0  \n",
       "2   0.004739     0.001266  300.0  \n",
       "3   0.020770     0.005192  300.0  \n",
       "4   0.066879     0.014933  300.0  \n",
       "5   0.103144     0.011745  300.0  \n",
       "6   0.151084     0.015526  300.0  \n",
       "7   0.208230     0.018507  300.0  \n",
       "8   0.275777     0.021876  300.0  \n",
       "9   0.349054     0.023731  300.0  \n",
       "10  1.000000     0.210813  300.0  "
      ]
     },
     "execution_count": 6,
     "metadata": {},
     "output_type": "execute_result"
    }
   ],
   "source": [
    "dgs = pd.read_table(path+'fort.19',header=None,sep=\"\\s+\",keep_default_na=False,index_col=[0],\n",
    "                   names=['g','abscom(ig)','abscom(ig)/abscom(ig-1)','dg','dgs','dgs/tflux(1)','accu6th','dgs/rSolsum','pref'])\n",
    "dgs"
   ]
  },
  {
   "cell_type": "code",
   "execution_count": 7,
   "metadata": {},
   "outputs": [
    {
     "data": {
      "text/html": [
       "<script>\n",
       "code_show=true; \n",
       "function code_toggle() {\n",
       " if (code_show){\n",
       " $('div.input').hide();\n",
       " } else {\n",
       " $('div.input').show();\n",
       " }\n",
       " code_show = !code_show\n",
       "} \n",
       "$( document ).ready(code_toggle);\n",
       "</script>\n",
       "<form action=\"javascript:code_toggle()\"><input type=\"submit\" value=\"Click here to toggle on/off the raw code.\"></form>"
      ],
      "text/plain": [
       "<IPython.core.display.HTML object>"
      ]
     },
     "execution_count": 7,
     "metadata": {},
     "output_type": "execute_result"
    }
   ],
   "source": [
    "display.HTML('''<script>\n",
    "code_show=true; \n",
    "function code_toggle() {\n",
    " if (code_show){\n",
    " $('div.input').hide();\n",
    " } else {\n",
    " $('div.input').show();\n",
    " }\n",
    " code_show = !code_show\n",
    "} \n",
    "$( document ).ready(code_toggle);\n",
    "</script>\n",
    "<form action=\"javascript:code_toggle()\"><input type=\"submit\" value=\"Click here to toggle on/off the raw code.\"></form>''')"
   ]
  }
 ],
 "metadata": {
  "hide_code_all_hidden": false,
  "kernelspec": {
   "display_name": "Python 3",
   "language": "python",
   "name": "python3"
  },
  "language_info": {
   "codemirror_mode": {
    "name": "ipython",
    "version": 3
   },
   "file_extension": ".py",
   "mimetype": "text/x-python",
   "name": "python",
   "nbconvert_exporter": "python",
   "pygments_lexer": "ipython3",
   "version": "3.7.0"
  }
 },
 "nbformat": 4,
 "nbformat_minor": 2
}
