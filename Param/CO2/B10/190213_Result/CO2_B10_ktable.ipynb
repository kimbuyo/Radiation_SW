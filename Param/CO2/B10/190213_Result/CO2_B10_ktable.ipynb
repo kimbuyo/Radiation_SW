{
 "cells": [
  {
   "cell_type": "markdown",
   "metadata": {
    "hideCode": false,
    "hidePrompt": false
   },
   "source": [
    "#  CO2 B10 cosz1.0 ktable"
   ]
  },
  {
   "cell_type": "markdown",
   "metadata": {
    "hideCode": false,
    "hidePrompt": false,
    "slideshow": {
     "slide_type": "-"
    }
   },
   "source": [
    "### Input Parameter Options\n",
    "    CO2 Band 10 (4400 - 8200)\n",
    "    vstar = 4400\n",
    "    nband = 380\n",
    "    nv = 10000\n",
    "    dv = 0.001\n",
    "    cosz = 1.0\n",
    "    rsfc = 0.0\n",
    "\n",
    "    ng = 6\n",
    "    nref = 2\n",
    "    p_refs = / 10, 300 /\n",
    "    t_refs = / 250, 250 /\n",
    "    ng_refs = / 3, 3 /\n",
    "    ng_adju = / 0, 0 /\n",
    "    wgt = / 2*0.85, 0.8, 0.75, 0.65, 0.85 / \n",
    "    option_klin = 1\n",
    "    klin = 2.0e-23\n",
    "    option_k_lookup = 1\n",
    "    nl = 52\n",
    "    nt = 5"
   ]
  },
  {
   "cell_type": "code",
   "execution_count": 1,
   "metadata": {
    "hideCode": false,
    "hidePrompt": false
   },
   "outputs": [],
   "source": [
    "import numpy as np\n",
    "from pandas import *\n",
    "import pandas as pd\n",
    "import matplotlib.pyplot as plt\n",
    "%matplotlib inline\n",
    "import IPython.display as display\n",
    "\n",
    "pd.set_option('display.max_rows', 1000)\n",
    "pd.set_option('display.max_columns', 1000)\n",
    "\n",
    "path = './'\n",
    "fname = 'CO2_B10_'"
   ]
  },
  {
   "cell_type": "markdown",
   "metadata": {
    "hideCode": false,
    "hidePrompt": false
   },
   "source": [
    "### absmean"
   ]
  },
  {
   "cell_type": "code",
   "execution_count": 2,
   "metadata": {},
   "outputs": [],
   "source": [
    "absmean = pd.read_table(path+'fort.881',header=None,sep=\"\\s+\",keep_default_na=False,index_col=[0],names=['ig','ip','t1','t2','t3','t4','t5'])\n",
    "absmeanlog = pd.read_table(path+'fort.882',header=None,sep=\"\\s+\",keep_default_na=False,index_col=[0],names=['ig','ip','t1','t2','t3','t4','t5'])\n",
    "ktable = pd.read_table(path+'fort.888',header=None,sep=\"\\s+\",keep_default_na=False,index_col=[0],names=['ig','ip','t1','t2','t3','t4','t5'])"
   ]
  },
  {
   "cell_type": "code",
   "execution_count": 3,
   "metadata": {},
   "outputs": [
    {
     "data": {
      "text/html": [
       "\n",
       "Download: <a href=\"./CO2_B10_absmean.csv\">CO2_B10_absmean.csv</a>"
      ],
      "text/plain": [
       "<IPython.core.display.HTML object>"
      ]
     },
     "metadata": {},
     "output_type": "display_data"
    }
   ],
   "source": [
    "## save absmean data to excel\n",
    "sav = pd.DataFrame(absmean)\n",
    "sav.to_csv(fname+\"absmean.csv\",header=True,index=True)\n",
    "fn = fname+'absmean.csv'\n",
    "sav.to_csv(fn)\n",
    "html_download = '''\n",
    "Download: <a href=\"./{fname}\">{fname}</a>'''.format(fname=fn)\n",
    "display.display(display.HTML(html_download))"
   ]
  },
  {
   "cell_type": "markdown",
   "metadata": {
    "hideCode": false,
    "hidePrompt": false
   },
   "source": [
    "### absmeanlog"
   ]
  },
  {
   "cell_type": "code",
   "execution_count": 4,
   "metadata": {},
   "outputs": [
    {
     "data": {
      "text/html": [
       "\n",
       "Download: <a href=\"./CO2_B10_absmeanlog.csv\">CO2_B10_absmeanlog.csv</a>"
      ],
      "text/plain": [
       "<IPython.core.display.HTML object>"
      ]
     },
     "metadata": {},
     "output_type": "display_data"
    }
   ],
   "source": [
    "## save absmean data to excel\n",
    "sav = pd.DataFrame(absmeanlog)\n",
    "sav.to_csv(fname+\"absmeanlog.csv\",header=True,index=True)\n",
    "fn = fname+'absmeanlog.csv'\n",
    "sav.to_csv(fn)\n",
    "html_download = '''\n",
    "Download: <a href=\"./{fname}\">{fname}</a>'''.format(fname=fn)\n",
    "display.display(display.HTML(html_download))"
   ]
  },
  {
   "cell_type": "markdown",
   "metadata": {},
   "source": [
    "### ktable"
   ]
  },
  {
   "cell_type": "code",
   "execution_count": 5,
   "metadata": {},
   "outputs": [
    {
     "data": {
      "text/html": [
       "\n",
       "Download: <a href=\"./CO2_B10_ktable.csv\">CO2_B10_ktable.csv</a>"
      ],
      "text/plain": [
       "<IPython.core.display.HTML object>"
      ]
     },
     "metadata": {},
     "output_type": "display_data"
    }
   ],
   "source": [
    "## save absmean data to excel\n",
    "sav = pd.DataFrame(ktable)\n",
    "sav.to_csv(fname+\"ktable.csv\",header=True,index=True)\n",
    "fn = fname+'ktable.csv'\n",
    "sav.to_csv(fn)\n",
    "html_download = '''\n",
    "Download: <a href=\"./{fname}\">{fname}</a>'''.format(fname=fn)\n",
    "display.display(display.HTML(html_download))"
   ]
  },
  {
   "cell_type": "markdown",
   "metadata": {},
   "source": [
    "### abscom, dg, dgs, ..."
   ]
  },
  {
   "cell_type": "code",
   "execution_count": 6,
   "metadata": {},
   "outputs": [
    {
     "data": {
      "text/html": [
       "<div>\n",
       "<style scoped>\n",
       "    .dataframe tbody tr th:only-of-type {\n",
       "        vertical-align: middle;\n",
       "    }\n",
       "\n",
       "    .dataframe tbody tr th {\n",
       "        vertical-align: top;\n",
       "    }\n",
       "\n",
       "    .dataframe thead th {\n",
       "        text-align: right;\n",
       "    }\n",
       "</style>\n",
       "<table border=\"1\" class=\"dataframe\">\n",
       "  <thead>\n",
       "    <tr style=\"text-align: right;\">\n",
       "      <th></th>\n",
       "      <th>abscom(ig)</th>\n",
       "      <th>abscom(ig)/abscom(ig-1)</th>\n",
       "      <th>dg</th>\n",
       "      <th>dgs</th>\n",
       "      <th>dgs/tflux(1)</th>\n",
       "      <th>accu6th</th>\n",
       "      <th>dgs/rSolsum</th>\n",
       "      <th>pref</th>\n",
       "    </tr>\n",
       "    <tr>\n",
       "      <th>g</th>\n",
       "      <th></th>\n",
       "      <th></th>\n",
       "      <th></th>\n",
       "      <th></th>\n",
       "      <th></th>\n",
       "      <th></th>\n",
       "      <th></th>\n",
       "      <th></th>\n",
       "    </tr>\n",
       "  </thead>\n",
       "  <tbody>\n",
       "    <tr>\n",
       "      <th>1</th>\n",
       "      <td>1.176080e-20</td>\n",
       "      <td>0.000000</td>\n",
       "      <td>0.000303</td>\n",
       "      <td>0.053534</td>\n",
       "      <td>0.000235</td>\n",
       "      <td>0.000235</td>\n",
       "      <td>0.000039</td>\n",
       "      <td>10.0</td>\n",
       "    </tr>\n",
       "    <tr>\n",
       "      <th>2</th>\n",
       "      <td>1.020800e-21</td>\n",
       "      <td>0.086796</td>\n",
       "      <td>0.000884</td>\n",
       "      <td>0.170117</td>\n",
       "      <td>0.000747</td>\n",
       "      <td>0.000982</td>\n",
       "      <td>0.000125</td>\n",
       "      <td>10.0</td>\n",
       "    </tr>\n",
       "    <tr>\n",
       "      <th>3</th>\n",
       "      <td>8.860160e-23</td>\n",
       "      <td>0.086796</td>\n",
       "      <td>0.003624</td>\n",
       "      <td>0.683622</td>\n",
       "      <td>0.003002</td>\n",
       "      <td>0.003984</td>\n",
       "      <td>0.000500</td>\n",
       "      <td>10.0</td>\n",
       "    </tr>\n",
       "    <tr>\n",
       "      <th>4</th>\n",
       "      <td>2.145390e-22</td>\n",
       "      <td>2.421392</td>\n",
       "      <td>0.005738</td>\n",
       "      <td>1.033083</td>\n",
       "      <td>0.004536</td>\n",
       "      <td>0.008520</td>\n",
       "      <td>0.000756</td>\n",
       "      <td>300.0</td>\n",
       "    </tr>\n",
       "    <tr>\n",
       "      <th>5</th>\n",
       "      <td>2.000000e-23</td>\n",
       "      <td>0.093223</td>\n",
       "      <td>0.031237</td>\n",
       "      <td>5.798761</td>\n",
       "      <td>0.025461</td>\n",
       "      <td>0.033981</td>\n",
       "      <td>0.004245</td>\n",
       "      <td>300.0</td>\n",
       "    </tr>\n",
       "    <tr>\n",
       "      <th>6</th>\n",
       "      <td>1.871480e-31</td>\n",
       "      <td>0.000000</td>\n",
       "      <td>0.958214</td>\n",
       "      <td>220.009882</td>\n",
       "      <td>0.966019</td>\n",
       "      <td>1.000000</td>\n",
       "      <td>0.161050</td>\n",
       "      <td>300.0</td>\n",
       "    </tr>\n",
       "  </tbody>\n",
       "</table>\n",
       "</div>"
      ],
      "text/plain": [
       "     abscom(ig)  abscom(ig)/abscom(ig-1)        dg         dgs  dgs/tflux(1)  \\\n",
       "g                                                                              \n",
       "1  1.176080e-20                 0.000000  0.000303    0.053534      0.000235   \n",
       "2  1.020800e-21                 0.086796  0.000884    0.170117      0.000747   \n",
       "3  8.860160e-23                 0.086796  0.003624    0.683622      0.003002   \n",
       "4  2.145390e-22                 2.421392  0.005738    1.033083      0.004536   \n",
       "5  2.000000e-23                 0.093223  0.031237    5.798761      0.025461   \n",
       "6  1.871480e-31                 0.000000  0.958214  220.009882      0.966019   \n",
       "\n",
       "    accu6th  dgs/rSolsum   pref  \n",
       "g                                \n",
       "1  0.000235     0.000039   10.0  \n",
       "2  0.000982     0.000125   10.0  \n",
       "3  0.003984     0.000500   10.0  \n",
       "4  0.008520     0.000756  300.0  \n",
       "5  0.033981     0.004245  300.0  \n",
       "6  1.000000     0.161050  300.0  "
      ]
     },
     "execution_count": 6,
     "metadata": {},
     "output_type": "execute_result"
    }
   ],
   "source": [
    "dgs = pd.read_table(path+'fort.19',header=None,sep=\"\\s+\",keep_default_na=False,index_col=[0],\n",
    "                   names=['g','abscom(ig)','abscom(ig)/abscom(ig-1)','dg','dgs','dgs/tflux(1)','accu6th','dgs/rSolsum','pref'])\n",
    "dgs"
   ]
  },
  {
   "cell_type": "code",
   "execution_count": 7,
   "metadata": {},
   "outputs": [
    {
     "data": {
      "text/html": [
       "<script>\n",
       "code_show=true; \n",
       "function code_toggle() {\n",
       " if (code_show){\n",
       " $('div.input').hide();\n",
       " } else {\n",
       " $('div.input').show();\n",
       " }\n",
       " code_show = !code_show\n",
       "} \n",
       "$( document ).ready(code_toggle);\n",
       "</script>\n",
       "<form action=\"javascript:code_toggle()\"><input type=\"submit\" value=\"Click here to toggle on/off the raw code.\"></form>"
      ],
      "text/plain": [
       "<IPython.core.display.HTML object>"
      ]
     },
     "execution_count": 7,
     "metadata": {},
     "output_type": "execute_result"
    }
   ],
   "source": [
    "display.HTML('''<script>\n",
    "code_show=true; \n",
    "function code_toggle() {\n",
    " if (code_show){\n",
    " $('div.input').hide();\n",
    " } else {\n",
    " $('div.input').show();\n",
    " }\n",
    " code_show = !code_show\n",
    "} \n",
    "$( document ).ready(code_toggle);\n",
    "</script>\n",
    "<form action=\"javascript:code_toggle()\"><input type=\"submit\" value=\"Click here to toggle on/off the raw code.\"></form>''')"
   ]
  }
 ],
 "metadata": {
  "hide_code_all_hidden": false,
  "kernelspec": {
   "display_name": "Python 3",
   "language": "python",
   "name": "python3"
  },
  "language_info": {
   "codemirror_mode": {
    "name": "ipython",
    "version": 3
   },
   "file_extension": ".py",
   "mimetype": "text/x-python",
   "name": "python",
   "nbconvert_exporter": "python",
   "pygments_lexer": "ipython3",
   "version": "3.7.0"
  }
 },
 "nbformat": 4,
 "nbformat_minor": 2
}
