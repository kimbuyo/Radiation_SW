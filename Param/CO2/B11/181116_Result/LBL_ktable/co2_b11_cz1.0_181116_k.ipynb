{
 "cells": [
  {
   "cell_type": "markdown",
   "metadata": {
    "hideCode": false,
    "hidePrompt": false
   },
   "source": [
    "#  CLIRAD CO2 B11 cosz1.0 ktable (181116)"
   ]
  },
  {
   "cell_type": "markdown",
   "metadata": {
    "hideCode": false,
    "hidePrompt": false,
    "slideshow": {
     "slide_type": "-"
    }
   },
   "source": [
    "### Input Parameter Options\n",
    "\n",
    "    CO2 Band 10 (1000 - 4400)\n",
    "    cosz = 1.0\n",
    "    rsfc = 0.0\n",
    "    vstar = 1000\n",
    "    nband = 340\n",
    "    nv = 10000\n",
    "    dv = 0.001\n",
    "    ng = 10 \n",
    "    nref = 2\n",
    "    p_refs = / 1, 10 /\n",
    "    t_refs = / 250, 250 /\n",
    "    ng_refs = / 5, 5 /  \n",
    "    ng_adju = / 0, 0 /\n",
    "    data wgt / 10*0.6 /\n",
    "    option_klin = 1\n",
    "    klin = 5.0e-24\n",
    "    nl = 52\n",
    "    nt = 5"
   ]
  },
  {
   "cell_type": "markdown",
   "metadata": {},
   "source": [
    "### Note\n",
    "    Work_SW_single_18-10-08.f\n",
    "    All variables were changed real*8 type "
   ]
  },
  {
   "cell_type": "code",
   "execution_count": 3,
   "metadata": {
    "hideCode": false,
    "hidePrompt": false
   },
   "outputs": [],
   "source": [
    "import numpy as np\n",
    "from pandas import *\n",
    "import pandas as pd\n",
    "import matplotlib.pyplot as plt\n",
    "%matplotlib inline\n",
    "import IPython.display as display\n",
    "\n",
    "pd.set_option('display.max_rows', 1000)\n",
    "pd.set_option('display.max_columns', 1000)\n",
    "\n",
    "path = '181109_k-table/'\n",
    "fname = 'co2_b11_cz1.0_181116_'"
   ]
  },
  {
   "cell_type": "markdown",
   "metadata": {
    "hideCode": false,
    "hidePrompt": false
   },
   "source": [
    "### absmean"
   ]
  },
  {
   "cell_type": "code",
   "execution_count": 4,
   "metadata": {},
   "outputs": [],
   "source": [
    "absmean = pd.read_table(path+'fort.881',header=None,sep=\"\\s+\",keep_default_na=False,index_col=[0],names=['ig','ip','t1','t2','t3','t4','t5'])\n",
    "absmeanlog = pd.read_table(path+'fort.882',header=None,sep=\"\\s+\",keep_default_na=False,index_col=[0],names=['ig','ip','t1','t2','t3','t4','t5'])\n",
    "ktable = pd.read_table(path+'fort.888',header=None,sep=\"\\s+\",keep_default_na=False,index_col=[0],names=['ig','ip','t1','t2','t3','t4','t5'])"
   ]
  },
  {
   "cell_type": "code",
   "execution_count": 5,
   "metadata": {},
   "outputs": [
    {
     "data": {
      "text/html": [
       "\n",
       "Download: <a href=\"./co2_b11_cz1.0_181116_absmean.csv\">co2_b11_cz1.0_181116_absmean.csv</a>"
      ],
      "text/plain": [
       "<IPython.core.display.HTML object>"
      ]
     },
     "metadata": {},
     "output_type": "display_data"
    }
   ],
   "source": [
    "## save absmean data to excel\n",
    "sav = pd.DataFrame(absmean)\n",
    "sav.to_csv(fname+\"absmean.csv\",header=True,index=True)\n",
    "fn = fname+'absmean.csv'\n",
    "sav.to_csv(fn)\n",
    "html_download = '''\n",
    "Download: <a href=\"./{fname}\">{fname}</a>'''.format(fname=fn)\n",
    "display.display(display.HTML(html_download))"
   ]
  },
  {
   "cell_type": "markdown",
   "metadata": {
    "hideCode": false,
    "hidePrompt": false
   },
   "source": [
    "### absmeanlog"
   ]
  },
  {
   "cell_type": "code",
   "execution_count": 6,
   "metadata": {},
   "outputs": [
    {
     "data": {
      "text/html": [
       "\n",
       "Download: <a href=\"./co2_b11_cz1.0_181116_absmeanlog.csv\">co2_b11_cz1.0_181116_absmeanlog.csv</a>"
      ],
      "text/plain": [
       "<IPython.core.display.HTML object>"
      ]
     },
     "metadata": {},
     "output_type": "display_data"
    }
   ],
   "source": [
    "## save absmean data to excel\n",
    "sav = pd.DataFrame(absmeanlog)\n",
    "sav.to_csv(fname+\"absmeanlog.csv\",header=True,index=True)\n",
    "fn = fname+'absmeanlog.csv'\n",
    "sav.to_csv(fn)\n",
    "html_download = '''\n",
    "Download: <a href=\"./{fname}\">{fname}</a>'''.format(fname=fn)\n",
    "display.display(display.HTML(html_download))"
   ]
  },
  {
   "cell_type": "markdown",
   "metadata": {},
   "source": [
    "### ktable"
   ]
  },
  {
   "cell_type": "code",
   "execution_count": 7,
   "metadata": {},
   "outputs": [
    {
     "data": {
      "text/html": [
       "\n",
       "Download: <a href=\"./co2_b11_cz1.0_181116_ktable.csv\">co2_b11_cz1.0_181116_ktable.csv</a>"
      ],
      "text/plain": [
       "<IPython.core.display.HTML object>"
      ]
     },
     "metadata": {},
     "output_type": "display_data"
    }
   ],
   "source": [
    "## save absmean data to excel\n",
    "sav = pd.DataFrame(ktable)\n",
    "sav.to_csv(fname+\"ktable.csv\",header=True,index=True)\n",
    "fn = fname+'ktable.csv'\n",
    "sav.to_csv(fn)\n",
    "html_download = '''\n",
    "Download: <a href=\"./{fname}\">{fname}</a>'''.format(fname=fn)\n",
    "display.display(display.HTML(html_download))"
   ]
  },
  {
   "cell_type": "markdown",
   "metadata": {},
   "source": [
    "### abscom, dg, ..."
   ]
  },
  {
   "cell_type": "code",
   "execution_count": 8,
   "metadata": {},
   "outputs": [
    {
     "data": {
      "text/html": [
       "<div>\n",
       "<style scoped>\n",
       "    .dataframe tbody tr th:only-of-type {\n",
       "        vertical-align: middle;\n",
       "    }\n",
       "\n",
       "    .dataframe tbody tr th {\n",
       "        vertical-align: top;\n",
       "    }\n",
       "\n",
       "    .dataframe thead th {\n",
       "        text-align: right;\n",
       "    }\n",
       "</style>\n",
       "<table border=\"1\" class=\"dataframe\">\n",
       "  <thead>\n",
       "    <tr style=\"text-align: right;\">\n",
       "      <th></th>\n",
       "      <th>abscom(ig)</th>\n",
       "      <th>abscom(ig)/abscom(ig-1)</th>\n",
       "      <th>dg</th>\n",
       "      <th>dgs</th>\n",
       "      <th>dgs/tflux(1)</th>\n",
       "      <th>accu6th</th>\n",
       "      <th>dgs/rSolsum</th>\n",
       "      <th>pref</th>\n",
       "    </tr>\n",
       "    <tr>\n",
       "      <th>g</th>\n",
       "      <th></th>\n",
       "      <th></th>\n",
       "      <th></th>\n",
       "      <th></th>\n",
       "      <th></th>\n",
       "      <th></th>\n",
       "      <th></th>\n",
       "      <th></th>\n",
       "    </tr>\n",
       "  </thead>\n",
       "  <tbody>\n",
       "    <tr>\n",
       "      <th>1</th>\n",
       "      <td>8.273820e-17</td>\n",
       "      <td>0.000000</td>\n",
       "      <td>0.000074</td>\n",
       "      <td>0.003107</td>\n",
       "      <td>0.000053</td>\n",
       "      <td>0.000053</td>\n",
       "      <td>0.000002</td>\n",
       "      <td>1.0</td>\n",
       "    </tr>\n",
       "    <tr>\n",
       "      <th>2</th>\n",
       "      <td>7.769250e-18</td>\n",
       "      <td>0.093902</td>\n",
       "      <td>0.000140</td>\n",
       "      <td>0.006316</td>\n",
       "      <td>0.000108</td>\n",
       "      <td>0.000161</td>\n",
       "      <td>0.000005</td>\n",
       "      <td>1.0</td>\n",
       "    </tr>\n",
       "    <tr>\n",
       "      <th>3</th>\n",
       "      <td>7.295460e-19</td>\n",
       "      <td>0.093902</td>\n",
       "      <td>0.000624</td>\n",
       "      <td>0.037109</td>\n",
       "      <td>0.000632</td>\n",
       "      <td>0.000793</td>\n",
       "      <td>0.000027</td>\n",
       "      <td>1.0</td>\n",
       "    </tr>\n",
       "    <tr>\n",
       "      <th>4</th>\n",
       "      <td>6.850560e-20</td>\n",
       "      <td>0.093902</td>\n",
       "      <td>0.001665</td>\n",
       "      <td>0.090181</td>\n",
       "      <td>0.001536</td>\n",
       "      <td>0.002329</td>\n",
       "      <td>0.000066</td>\n",
       "      <td>1.0</td>\n",
       "    </tr>\n",
       "    <tr>\n",
       "      <th>5</th>\n",
       "      <td>6.432790e-21</td>\n",
       "      <td>0.093902</td>\n",
       "      <td>0.004508</td>\n",
       "      <td>0.243375</td>\n",
       "      <td>0.004146</td>\n",
       "      <td>0.006475</td>\n",
       "      <td>0.000178</td>\n",
       "      <td>1.0</td>\n",
       "    </tr>\n",
       "    <tr>\n",
       "      <th>6</th>\n",
       "      <td>6.037830e-21</td>\n",
       "      <td>0.938602</td>\n",
       "      <td>0.010419</td>\n",
       "      <td>0.499138</td>\n",
       "      <td>0.008503</td>\n",
       "      <td>0.014977</td>\n",
       "      <td>0.000365</td>\n",
       "      <td>10.0</td>\n",
       "    </tr>\n",
       "    <tr>\n",
       "      <th>7</th>\n",
       "      <td>5.669920e-22</td>\n",
       "      <td>0.093907</td>\n",
       "      <td>0.021863</td>\n",
       "      <td>1.296133</td>\n",
       "      <td>0.022079</td>\n",
       "      <td>0.037056</td>\n",
       "      <td>0.000949</td>\n",
       "      <td>10.0</td>\n",
       "    </tr>\n",
       "    <tr>\n",
       "      <th>8</th>\n",
       "      <td>5.324440e-23</td>\n",
       "      <td>0.093907</td>\n",
       "      <td>0.038244</td>\n",
       "      <td>2.907144</td>\n",
       "      <td>0.049522</td>\n",
       "      <td>0.086578</td>\n",
       "      <td>0.002128</td>\n",
       "      <td>10.0</td>\n",
       "    </tr>\n",
       "    <tr>\n",
       "      <th>9</th>\n",
       "      <td>5.000000e-24</td>\n",
       "      <td>0.093907</td>\n",
       "      <td>0.039658</td>\n",
       "      <td>2.930231</td>\n",
       "      <td>0.049915</td>\n",
       "      <td>0.136493</td>\n",
       "      <td>0.002145</td>\n",
       "      <td>10.0</td>\n",
       "    </tr>\n",
       "    <tr>\n",
       "      <th>10</th>\n",
       "      <td>1.000000e-100</td>\n",
       "      <td>0.000000</td>\n",
       "      <td>0.882805</td>\n",
       "      <td>50.691764</td>\n",
       "      <td>0.863507</td>\n",
       "      <td>1.000000</td>\n",
       "      <td>0.037107</td>\n",
       "      <td>10.0</td>\n",
       "    </tr>\n",
       "  </tbody>\n",
       "</table>\n",
       "</div>"
      ],
      "text/plain": [
       "       abscom(ig)  abscom(ig)/abscom(ig-1)        dg        dgs  dgs/tflux(1)  \\\n",
       "g                                                                               \n",
       "1    8.273820e-17                 0.000000  0.000074   0.003107      0.000053   \n",
       "2    7.769250e-18                 0.093902  0.000140   0.006316      0.000108   \n",
       "3    7.295460e-19                 0.093902  0.000624   0.037109      0.000632   \n",
       "4    6.850560e-20                 0.093902  0.001665   0.090181      0.001536   \n",
       "5    6.432790e-21                 0.093902  0.004508   0.243375      0.004146   \n",
       "6    6.037830e-21                 0.938602  0.010419   0.499138      0.008503   \n",
       "7    5.669920e-22                 0.093907  0.021863   1.296133      0.022079   \n",
       "8    5.324440e-23                 0.093907  0.038244   2.907144      0.049522   \n",
       "9    5.000000e-24                 0.093907  0.039658   2.930231      0.049915   \n",
       "10  1.000000e-100                 0.000000  0.882805  50.691764      0.863507   \n",
       "\n",
       "     accu6th  dgs/rSolsum  pref  \n",
       "g                                \n",
       "1   0.000053     0.000002   1.0  \n",
       "2   0.000161     0.000005   1.0  \n",
       "3   0.000793     0.000027   1.0  \n",
       "4   0.002329     0.000066   1.0  \n",
       "5   0.006475     0.000178   1.0  \n",
       "6   0.014977     0.000365  10.0  \n",
       "7   0.037056     0.000949  10.0  \n",
       "8   0.086578     0.002128  10.0  \n",
       "9   0.136493     0.002145  10.0  \n",
       "10  1.000000     0.037107  10.0  "
      ]
     },
     "execution_count": 8,
     "metadata": {},
     "output_type": "execute_result"
    }
   ],
   "source": [
    "dgs = pd.read_table(path+'fort.19',header=None,sep=\"\\s+\",keep_default_na=False,index_col=[0],\n",
    "                   names=['g','abscom(ig)','abscom(ig)/abscom(ig-1)','dg','dgs','dgs/tflux(1)','accu6th','dgs/rSolsum','pref'])\n",
    "dgs"
   ]
  },
  {
   "cell_type": "code",
   "execution_count": 9,
   "metadata": {},
   "outputs": [
    {
     "data": {
      "text/html": [
       "<script>\n",
       "code_show=true; \n",
       "function code_toggle() {\n",
       " if (code_show){\n",
       " $('div.input').hide();\n",
       " } else {\n",
       " $('div.input').show();\n",
       " }\n",
       " code_show = !code_show\n",
       "} \n",
       "$( document ).ready(code_toggle);\n",
       "</script>\n",
       "<form action=\"javascript:code_toggle()\"><input type=\"submit\" value=\"Click here to toggle on/off the raw code.\"></form>"
      ],
      "text/plain": [
       "<IPython.core.display.HTML object>"
      ]
     },
     "execution_count": 9,
     "metadata": {},
     "output_type": "execute_result"
    }
   ],
   "source": [
    "display.HTML('''<script>\n",
    "code_show=true; \n",
    "function code_toggle() {\n",
    " if (code_show){\n",
    " $('div.input').hide();\n",
    " } else {\n",
    " $('div.input').show();\n",
    " }\n",
    " code_show = !code_show\n",
    "} \n",
    "$( document ).ready(code_toggle);\n",
    "</script>\n",
    "<form action=\"javascript:code_toggle()\"><input type=\"submit\" value=\"Click here to toggle on/off the raw code.\"></form>''')"
   ]
  }
 ],
 "metadata": {
  "hide_code_all_hidden": false,
  "kernelspec": {
   "display_name": "Python 3",
   "language": "python",
   "name": "python3"
  },
  "language_info": {
   "codemirror_mode": {
    "name": "ipython",
    "version": 3
   },
   "file_extension": ".py",
   "mimetype": "text/x-python",
   "name": "python",
   "nbconvert_exporter": "python",
   "pygments_lexer": "ipython3",
   "version": "3.7.0"
  }
 },
 "nbformat": 4,
 "nbformat_minor": 2
}
